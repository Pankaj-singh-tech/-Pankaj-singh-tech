{
  "cells": [
    {
      "cell_type": "markdown",
      "id": "56758853",
      "metadata": {
        "id": "56758853"
      },
      "source": [
        "<div style=\"text-align:center\">\n",
        "        <h1>\n",
        "            Complete NumPy course for beginners\n",
        "        </h1>\n",
        "</div>\n",
        "\n",
        "<br><br>\n",
        "\n",
        "![numpy_logo.png](attachment:numpy_logo.png)\n",
        "\n",
        "\n",
        "<br><br>"
      ]
    },
    {
      "cell_type": "code",
      "execution_count": null,
      "id": "4eefd941",
      "metadata": {
        "id": "4eefd941"
      },
      "outputs": [],
      "source": [
        "import time\n",
        "import numpy as np\n",
        "import seaborn as sns\n",
        "import matplotlib.pyplot as plt\n",
        "import matplotlib.cm as cm\n",
        "from sklearn.datasets import load_sample_image"
      ]
    },
    {
      "cell_type": "code",
      "execution_count": null,
      "id": "0122d25f",
      "metadata": {
        "id": "0122d25f"
      },
      "outputs": [],
      "source": [
        "np.__version__"
      ]
    },
    {
      "cell_type": "markdown",
      "id": "8846b8f8",
      "metadata": {
        "id": "8846b8f8"
      },
      "source": [
        "### Array basics (ndarray class)\n",
        "\n",
        "<table style=\"width:75%\">\n",
        "\n",
        "  <tr style=\"background-color: transparent\">\n",
        "    <td valign=\"bottom\">\n",
        "        <img src=\"https://github.com/evlabs-jventajas/tutorials/blob/main/images/1d_array.png?raw=1\" width=\"200\"/>\n",
        "    </td>\n",
        "    <td valign=\"bottom\">\n",
        "        <img src=\"https://github.com/evlabs-jventajas/tutorials/blob/main/images/2d_array.png?raw=1\" width=\"200\"/>\n",
        "    </td>\n",
        "    <td valign=\"bottom\">\n",
        "        <img src=\"https://github.com/evlabs-jventajas/tutorials/blob/main/images/3d_array.png?raw=1\" width=\"250\"/>\n",
        "    </td>\n",
        "\n",
        "  </tr>\n",
        "\n",
        "</table>"
      ]
    },
    {
      "cell_type": "markdown",
      "id": "190127df",
      "metadata": {
        "id": "190127df"
      },
      "source": [
        "<table style=\"width:75%\">\n",
        "\n",
        "  <tr style=\"background-color: transparent\">\n",
        "    <td valign=\"bottom\">\n",
        "        <img src=\"https://github.com/evlabs-jventajas/tutorials/blob/main/images/txt_array.png?raw=1\" width=\"200\"/>\n",
        "    </td>\n",
        "    <td valign=\"bottom\">\n",
        "        <img src=\"https://github.com/evlabs-jventajas/tutorials/blob/main/images/bool_array.png?raw=1\" width=\"200\"/>\n",
        "    </td>\n",
        "    <td valign=\"bottom\">\n",
        "        <img src=\"https://github.com/evlabs-jventajas/tutorials/blob/main/images/obj_array.png?raw=1\" width=\"200\"/>\n",
        "    </td>\n",
        "\n",
        "  </tr>\n",
        "\n",
        "</table>"
      ]
    },
    {
      "cell_type": "markdown",
      "id": "345db300",
      "metadata": {
        "id": "345db300"
      },
      "source": [
        "###### Data types:\n",
        "\n",
        "- **Float**: np.float16, np.float32, np.float64\n",
        "\n",
        "\n",
        "- **Integer**: np.int8, np.int16, np.int32, np.int64, np.uint8, np.uint16, np.uint32, np.uint64\n",
        "\n",
        "\n",
        "- **Complex**: np.complex64, np.complex128\n",
        "\n",
        "\n",
        "- **Boolean**: np.bool\n",
        "\n",
        "\n",
        "- **String**: np.str\n",
        "\n",
        "\n",
        "- **Object**: np.object\n"
      ]
    },
    {
      "cell_type": "markdown",
      "id": "92e05335",
      "metadata": {
        "id": "92e05335"
      },
      "source": [
        "###### Advantages of NumPy n-dimensional arrays vs Python collections\n",
        "\n",
        "\n",
        "- Implemented in C\n",
        "\n",
        "\n",
        "- Memory efficiency\n",
        "\n",
        "\n",
        "- Flexibility\n",
        "\n",
        "\n",
        "- Vectorized operations\n",
        "\n",
        "\n",
        "- Processing speed"
      ]
    },
    {
      "cell_type": "markdown",
      "id": "88c00242",
      "metadata": {
        "id": "88c00242"
      },
      "source": [
        "### Why numpy?"
      ]
    },
    {
      "cell_type": "code",
      "execution_count": null,
      "id": "bae4cbc7",
      "metadata": {
        "id": "bae4cbc7"
      },
      "outputs": [],
      "source": [
        "def sum_python(n):\n",
        "    a = [i for i in range(n)]\n",
        "    b = [i for i in range(n)]\n",
        "    c = [None] * n\n",
        "    start = time.perf_counter()\n",
        "    for i in range(n):\n",
        "        c[i] = a[i] + b[i]\n",
        "    end = time.perf_counter()\n",
        "    return end - start\n",
        "\n",
        "def sum_numpy(n):\n",
        "    a = np.arange(n)\n",
        "    b = np.arange(n)\n",
        "    start = time.perf_counter()\n",
        "    c = a + b\n",
        "    end = time.perf_counter()\n",
        "    return end - start\n",
        "\n",
        "experiments = [100, 1000, 10000, 1000000]\n",
        "python_results = [sum_python(n) for n in experiments]\n",
        "numpy_results = [sum_numpy(n) for n in experiments]\n",
        "\n",
        "plt.figure(figsize=(8, 6))\n",
        "plt.xlabel(\"Array size\", size=14)\n",
        "plt.ylabel(\"Execution time\", size=14)\n",
        "plt.title(\"Execution time in seconds\", size=18)\n",
        "sns.lineplot(x=experiments, y=python_results, color='r', label='Python list')\n",
        "sns.lineplot(x=experiments, y=numpy_results, color='b', label='NumPy')"
      ]
    },
    {
      "cell_type": "code",
      "execution_count": null,
      "id": "1803deee",
      "metadata": {
        "id": "1803deee"
      },
      "outputs": [],
      "source": []
    },
    {
      "cell_type": "markdown",
      "id": "cdcf8880",
      "metadata": {
        "id": "cdcf8880"
      },
      "source": [
        "###### Array properties"
      ]
    },
    {
      "cell_type": "code",
      "execution_count": null,
      "id": "0d2b5304",
      "metadata": {
        "id": "0d2b5304"
      },
      "outputs": [],
      "source": []
    },
    {
      "cell_type": "code",
      "execution_count": null,
      "id": "62451fc5",
      "metadata": {
        "id": "62451fc5"
      },
      "outputs": [],
      "source": []
    },
    {
      "cell_type": "code",
      "execution_count": null,
      "id": "eb436713",
      "metadata": {
        "id": "eb436713"
      },
      "outputs": [],
      "source": []
    },
    {
      "cell_type": "markdown",
      "id": "7e9676bd",
      "metadata": {
        "id": "7e9676bd"
      },
      "source": [
        "### Indexing and slicing"
      ]
    },
    {
      "cell_type": "code",
      "execution_count": null,
      "id": "2f61c65e",
      "metadata": {
        "id": "2f61c65e"
      },
      "outputs": [],
      "source": []
    },
    {
      "cell_type": "code",
      "execution_count": null,
      "id": "78cf999f",
      "metadata": {
        "id": "78cf999f"
      },
      "outputs": [],
      "source": []
    },
    {
      "cell_type": "code",
      "execution_count": null,
      "id": "236c71b6",
      "metadata": {
        "id": "236c71b6"
      },
      "outputs": [],
      "source": []
    },
    {
      "cell_type": "code",
      "execution_count": null,
      "id": "294b1e5d",
      "metadata": {
        "id": "294b1e5d"
      },
      "outputs": [],
      "source": []
    },
    {
      "cell_type": "code",
      "execution_count": null,
      "id": "c73502a7",
      "metadata": {
        "id": "c73502a7"
      },
      "outputs": [],
      "source": []
    },
    {
      "cell_type": "code",
      "execution_count": null,
      "id": "e0d5f50e",
      "metadata": {
        "id": "e0d5f50e"
      },
      "outputs": [],
      "source": []
    },
    {
      "cell_type": "code",
      "execution_count": null,
      "id": "067100e8",
      "metadata": {
        "id": "067100e8"
      },
      "outputs": [],
      "source": []
    },
    {
      "cell_type": "code",
      "execution_count": null,
      "id": "72610d40",
      "metadata": {
        "id": "72610d40"
      },
      "outputs": [],
      "source": []
    },
    {
      "cell_type": "code",
      "execution_count": null,
      "id": "2716e9b6",
      "metadata": {
        "id": "2716e9b6"
      },
      "outputs": [],
      "source": []
    },
    {
      "cell_type": "markdown",
      "id": "5834caa4",
      "metadata": {
        "id": "5834caa4"
      },
      "source": [
        "### Copying and editing arrays"
      ]
    },
    {
      "cell_type": "code",
      "execution_count": null,
      "id": "bfb85fed",
      "metadata": {
        "id": "bfb85fed"
      },
      "outputs": [],
      "source": []
    },
    {
      "cell_type": "code",
      "execution_count": null,
      "id": "1c0c4296",
      "metadata": {
        "id": "1c0c4296"
      },
      "outputs": [],
      "source": []
    },
    {
      "cell_type": "code",
      "execution_count": null,
      "id": "22665feb",
      "metadata": {
        "id": "22665feb"
      },
      "outputs": [],
      "source": []
    },
    {
      "cell_type": "code",
      "execution_count": null,
      "id": "ab9073c6",
      "metadata": {
        "id": "ab9073c6"
      },
      "outputs": [],
      "source": []
    },
    {
      "cell_type": "markdown",
      "id": "ec4cc5ff",
      "metadata": {
        "id": "ec4cc5ff"
      },
      "source": [
        "### Reshaping and stacking arrays"
      ]
    },
    {
      "cell_type": "code",
      "execution_count": null,
      "id": "ba584643",
      "metadata": {
        "id": "ba584643"
      },
      "outputs": [],
      "source": []
    },
    {
      "cell_type": "code",
      "execution_count": null,
      "id": "459913da",
      "metadata": {
        "id": "459913da"
      },
      "outputs": [],
      "source": []
    },
    {
      "cell_type": "markdown",
      "id": "f942f6ef",
      "metadata": {
        "id": "f942f6ef"
      },
      "source": [
        "###### Stacking"
      ]
    },
    {
      "cell_type": "code",
      "execution_count": null,
      "id": "7d04bd8f",
      "metadata": {
        "id": "7d04bd8f"
      },
      "outputs": [],
      "source": []
    },
    {
      "cell_type": "code",
      "execution_count": null,
      "id": "b7445d93",
      "metadata": {
        "id": "b7445d93"
      },
      "outputs": [],
      "source": []
    },
    {
      "cell_type": "code",
      "execution_count": null,
      "id": "129359ae",
      "metadata": {
        "id": "129359ae"
      },
      "outputs": [],
      "source": []
    },
    {
      "cell_type": "code",
      "execution_count": null,
      "id": "c32983c6",
      "metadata": {
        "id": "c32983c6"
      },
      "outputs": [],
      "source": []
    },
    {
      "cell_type": "code",
      "execution_count": null,
      "id": "05cfd1fe",
      "metadata": {
        "id": "05cfd1fe"
      },
      "outputs": [],
      "source": []
    },
    {
      "cell_type": "markdown",
      "id": "846b7951",
      "metadata": {
        "id": "846b7951"
      },
      "source": [
        "###### Adding new axes"
      ]
    },
    {
      "cell_type": "code",
      "execution_count": null,
      "id": "b389d1cb",
      "metadata": {
        "id": "b389d1cb"
      },
      "outputs": [],
      "source": []
    },
    {
      "cell_type": "code",
      "execution_count": null,
      "id": "9168b5ce",
      "metadata": {
        "id": "9168b5ce"
      },
      "outputs": [],
      "source": []
    },
    {
      "cell_type": "code",
      "execution_count": null,
      "id": "95cef45c",
      "metadata": {
        "id": "95cef45c"
      },
      "outputs": [],
      "source": []
    },
    {
      "cell_type": "code",
      "execution_count": null,
      "id": "a7cd5d2d",
      "metadata": {
        "id": "a7cd5d2d"
      },
      "outputs": [],
      "source": []
    },
    {
      "cell_type": "code",
      "execution_count": null,
      "id": "83368244",
      "metadata": {
        "id": "83368244"
      },
      "outputs": [],
      "source": []
    },
    {
      "cell_type": "markdown",
      "id": "de5eb5f6",
      "metadata": {
        "id": "de5eb5f6"
      },
      "source": [
        "###### Reshaping"
      ]
    },
    {
      "cell_type": "code",
      "execution_count": null,
      "id": "b72462c0",
      "metadata": {
        "id": "b72462c0"
      },
      "outputs": [],
      "source": []
    },
    {
      "cell_type": "code",
      "execution_count": null,
      "id": "2e872c95",
      "metadata": {
        "id": "2e872c95"
      },
      "outputs": [],
      "source": []
    },
    {
      "cell_type": "code",
      "execution_count": null,
      "id": "887fb383",
      "metadata": {
        "id": "887fb383"
      },
      "outputs": [],
      "source": []
    },
    {
      "cell_type": "code",
      "execution_count": null,
      "id": "6015ee56",
      "metadata": {
        "id": "6015ee56"
      },
      "outputs": [],
      "source": []
    },
    {
      "cell_type": "code",
      "execution_count": null,
      "id": "f0e1cfdb",
      "metadata": {
        "id": "f0e1cfdb"
      },
      "outputs": [],
      "source": []
    },
    {
      "cell_type": "code",
      "execution_count": null,
      "id": "ea874155",
      "metadata": {
        "id": "ea874155"
      },
      "outputs": [],
      "source": []
    },
    {
      "cell_type": "markdown",
      "id": "9ec8d501",
      "metadata": {
        "id": "9ec8d501"
      },
      "source": [
        "### Arithmetic operations"
      ]
    },
    {
      "cell_type": "code",
      "execution_count": null,
      "id": "0fd32799",
      "metadata": {
        "id": "0fd32799"
      },
      "outputs": [],
      "source": []
    },
    {
      "cell_type": "code",
      "execution_count": null,
      "id": "5738c026",
      "metadata": {
        "id": "5738c026"
      },
      "outputs": [],
      "source": []
    },
    {
      "cell_type": "code",
      "execution_count": null,
      "id": "832d4ab0",
      "metadata": {
        "id": "832d4ab0"
      },
      "outputs": [],
      "source": []
    },
    {
      "cell_type": "code",
      "execution_count": null,
      "id": "a88173df",
      "metadata": {
        "id": "a88173df"
      },
      "outputs": [],
      "source": []
    },
    {
      "cell_type": "code",
      "execution_count": null,
      "id": "fa225438",
      "metadata": {
        "id": "fa225438"
      },
      "outputs": [],
      "source": []
    },
    {
      "cell_type": "code",
      "execution_count": null,
      "id": "9f8afb22",
      "metadata": {
        "id": "9f8afb22"
      },
      "outputs": [],
      "source": []
    },
    {
      "cell_type": "code",
      "execution_count": null,
      "id": "2c3f039d",
      "metadata": {
        "id": "2c3f039d"
      },
      "outputs": [],
      "source": []
    },
    {
      "cell_type": "code",
      "execution_count": null,
      "id": "a4b06f96",
      "metadata": {
        "id": "a4b06f96"
      },
      "outputs": [],
      "source": []
    },
    {
      "cell_type": "code",
      "execution_count": null,
      "id": "538b7ea0",
      "metadata": {
        "id": "538b7ea0"
      },
      "outputs": [],
      "source": []
    },
    {
      "cell_type": "code",
      "execution_count": null,
      "id": "54653221",
      "metadata": {
        "id": "54653221"
      },
      "outputs": [],
      "source": []
    },
    {
      "cell_type": "code",
      "execution_count": null,
      "id": "ca27dcbf",
      "metadata": {
        "id": "ca27dcbf"
      },
      "outputs": [],
      "source": []
    },
    {
      "cell_type": "markdown",
      "id": "3c0a272f",
      "metadata": {
        "id": "3c0a272f"
      },
      "source": [
        "### Applying a mathematical formula: $f(x) = \\frac {1} {\\sigma \\sqrt{2\\pi}} e^{-\\frac {1}{2} \\left(\\frac {x - \\mu} {\\sigma}\\right)^2}$"
      ]
    },
    {
      "cell_type": "code",
      "execution_count": null,
      "id": "ce5a77b9",
      "metadata": {
        "id": "ce5a77b9"
      },
      "outputs": [],
      "source": []
    },
    {
      "cell_type": "markdown",
      "id": "a170a1df",
      "metadata": {
        "id": "a170a1df"
      },
      "source": [
        "### Broadcasting"
      ]
    },
    {
      "cell_type": "code",
      "execution_count": null,
      "id": "674c645e",
      "metadata": {
        "id": "674c645e"
      },
      "outputs": [],
      "source": []
    },
    {
      "cell_type": "code",
      "execution_count": null,
      "id": "1c44971c",
      "metadata": {
        "id": "1c44971c"
      },
      "outputs": [],
      "source": []
    },
    {
      "cell_type": "code",
      "execution_count": null,
      "id": "dfdac7b9",
      "metadata": {
        "id": "dfdac7b9"
      },
      "outputs": [],
      "source": []
    },
    {
      "cell_type": "code",
      "execution_count": null,
      "id": "d36128b6",
      "metadata": {
        "id": "d36128b6"
      },
      "outputs": [],
      "source": []
    },
    {
      "cell_type": "code",
      "execution_count": null,
      "id": "f15fb5ef",
      "metadata": {
        "id": "f15fb5ef"
      },
      "outputs": [],
      "source": []
    },
    {
      "cell_type": "code",
      "execution_count": null,
      "id": "98627577",
      "metadata": {
        "id": "98627577"
      },
      "outputs": [],
      "source": []
    },
    {
      "cell_type": "markdown",
      "id": "357d7432",
      "metadata": {
        "id": "357d7432"
      },
      "source": [
        "### Basic operations"
      ]
    },
    {
      "cell_type": "code",
      "execution_count": null,
      "id": "f2f4241d",
      "metadata": {
        "id": "f2f4241d"
      },
      "outputs": [],
      "source": []
    },
    {
      "cell_type": "code",
      "execution_count": null,
      "id": "2cad696c",
      "metadata": {
        "id": "2cad696c"
      },
      "outputs": [],
      "source": []
    },
    {
      "cell_type": "code",
      "execution_count": null,
      "id": "48ac5e0d",
      "metadata": {
        "scrolled": true,
        "id": "48ac5e0d"
      },
      "outputs": [],
      "source": []
    },
    {
      "cell_type": "code",
      "execution_count": null,
      "id": "4b625f8e",
      "metadata": {
        "id": "4b625f8e"
      },
      "outputs": [],
      "source": []
    },
    {
      "cell_type": "code",
      "execution_count": null,
      "id": "4eb1f503",
      "metadata": {
        "id": "4eb1f503"
      },
      "outputs": [],
      "source": []
    },
    {
      "cell_type": "code",
      "execution_count": null,
      "id": "97bd1593",
      "metadata": {
        "id": "97bd1593"
      },
      "outputs": [],
      "source": []
    },
    {
      "cell_type": "markdown",
      "id": "fe5b9996",
      "metadata": {
        "id": "fe5b9996"
      },
      "source": [
        "###### Concatenate arrays"
      ]
    },
    {
      "cell_type": "code",
      "execution_count": null,
      "id": "b7e2a4ac",
      "metadata": {
        "id": "b7e2a4ac"
      },
      "outputs": [],
      "source": []
    },
    {
      "cell_type": "code",
      "execution_count": null,
      "id": "a726b6be",
      "metadata": {
        "id": "a726b6be"
      },
      "outputs": [],
      "source": []
    },
    {
      "cell_type": "code",
      "execution_count": null,
      "id": "f2df279f",
      "metadata": {
        "id": "f2df279f"
      },
      "outputs": [],
      "source": []
    },
    {
      "cell_type": "markdown",
      "id": "fef11a21",
      "metadata": {
        "id": "fef11a21"
      },
      "source": [
        "###### Flip arrays"
      ]
    },
    {
      "cell_type": "code",
      "execution_count": null,
      "id": "24397e7b",
      "metadata": {
        "id": "24397e7b"
      },
      "outputs": [],
      "source": []
    },
    {
      "cell_type": "code",
      "execution_count": null,
      "id": "8f1543de",
      "metadata": {
        "id": "8f1543de"
      },
      "outputs": [],
      "source": []
    },
    {
      "cell_type": "code",
      "execution_count": null,
      "id": "a3c31962",
      "metadata": {
        "id": "a3c31962"
      },
      "outputs": [],
      "source": []
    },
    {
      "cell_type": "code",
      "execution_count": null,
      "id": "3aef8448",
      "metadata": {
        "id": "3aef8448"
      },
      "outputs": [],
      "source": []
    },
    {
      "cell_type": "markdown",
      "id": "63a8f071",
      "metadata": {
        "id": "63a8f071"
      },
      "source": [
        "### Saving and loading numpy arrays"
      ]
    },
    {
      "cell_type": "code",
      "execution_count": null,
      "id": "d0e86d18",
      "metadata": {
        "id": "d0e86d18"
      },
      "outputs": [],
      "source": []
    },
    {
      "cell_type": "code",
      "execution_count": null,
      "id": "b163e8a1",
      "metadata": {
        "id": "b163e8a1"
      },
      "outputs": [],
      "source": []
    },
    {
      "cell_type": "code",
      "execution_count": null,
      "id": "ee9dd7e6",
      "metadata": {
        "id": "ee9dd7e6"
      },
      "outputs": [],
      "source": []
    },
    {
      "cell_type": "code",
      "execution_count": null,
      "id": "a7c323a1",
      "metadata": {
        "id": "a7c323a1"
      },
      "outputs": [],
      "source": []
    },
    {
      "cell_type": "code",
      "execution_count": null,
      "id": "81fa5d8e",
      "metadata": {
        "id": "81fa5d8e"
      },
      "outputs": [],
      "source": []
    },
    {
      "cell_type": "markdown",
      "id": "aa85c846",
      "metadata": {
        "id": "aa85c846"
      },
      "source": [
        "### Random numbers"
      ]
    },
    {
      "cell_type": "code",
      "execution_count": null,
      "id": "277ef0d2",
      "metadata": {
        "id": "277ef0d2"
      },
      "outputs": [],
      "source": []
    },
    {
      "cell_type": "code",
      "execution_count": null,
      "id": "d89732e9",
      "metadata": {
        "id": "d89732e9"
      },
      "outputs": [],
      "source": []
    },
    {
      "cell_type": "code",
      "execution_count": null,
      "id": "3989891b",
      "metadata": {
        "id": "3989891b"
      },
      "outputs": [],
      "source": []
    },
    {
      "cell_type": "code",
      "execution_count": null,
      "id": "1a9827ad",
      "metadata": {
        "id": "1a9827ad"
      },
      "outputs": [],
      "source": []
    },
    {
      "cell_type": "code",
      "execution_count": null,
      "id": "12a8ade9",
      "metadata": {
        "id": "12a8ade9"
      },
      "outputs": [],
      "source": []
    },
    {
      "cell_type": "code",
      "execution_count": null,
      "id": "5f2d1bc6",
      "metadata": {
        "id": "5f2d1bc6"
      },
      "outputs": [],
      "source": []
    },
    {
      "cell_type": "code",
      "execution_count": null,
      "id": "f6b28e7e",
      "metadata": {
        "id": "f6b28e7e"
      },
      "outputs": [],
      "source": []
    },
    {
      "cell_type": "code",
      "execution_count": null,
      "id": "dcc1f9d8",
      "metadata": {
        "id": "dcc1f9d8"
      },
      "outputs": [],
      "source": []
    },
    {
      "cell_type": "code",
      "execution_count": null,
      "id": "a029ecbf",
      "metadata": {
        "id": "a029ecbf"
      },
      "outputs": [],
      "source": []
    },
    {
      "cell_type": "code",
      "execution_count": null,
      "id": "4346a873",
      "metadata": {
        "id": "4346a873"
      },
      "outputs": [],
      "source": []
    },
    {
      "cell_type": "code",
      "execution_count": null,
      "id": "2c02cfa7",
      "metadata": {
        "id": "2c02cfa7"
      },
      "outputs": [],
      "source": []
    },
    {
      "cell_type": "markdown",
      "id": "0d519b4b",
      "metadata": {
        "id": "0d519b4b"
      },
      "source": [
        "### Statistics"
      ]
    },
    {
      "cell_type": "markdown",
      "id": "73d7964e",
      "metadata": {
        "id": "73d7964e"
      },
      "source": [
        "###### Chi-square samples"
      ]
    },
    {
      "cell_type": "code",
      "execution_count": null,
      "id": "b87f6ae8",
      "metadata": {
        "id": "b87f6ae8"
      },
      "outputs": [],
      "source": []
    },
    {
      "cell_type": "code",
      "execution_count": null,
      "id": "50710237",
      "metadata": {
        "id": "50710237"
      },
      "outputs": [],
      "source": []
    },
    {
      "cell_type": "markdown",
      "id": "c7e1c285",
      "metadata": {
        "id": "c7e1c285"
      },
      "source": [
        "###### Poisson samples"
      ]
    },
    {
      "cell_type": "code",
      "execution_count": null,
      "id": "35b24733",
      "metadata": {
        "id": "35b24733"
      },
      "outputs": [],
      "source": []
    },
    {
      "cell_type": "code",
      "execution_count": null,
      "id": "c3db6eb3",
      "metadata": {
        "id": "c3db6eb3"
      },
      "outputs": [],
      "source": []
    },
    {
      "cell_type": "markdown",
      "id": "ef5f3874",
      "metadata": {
        "id": "ef5f3874"
      },
      "source": [
        "###### Normal samples"
      ]
    },
    {
      "cell_type": "code",
      "execution_count": null,
      "id": "9f280eff",
      "metadata": {
        "id": "9f280eff"
      },
      "outputs": [],
      "source": []
    },
    {
      "cell_type": "code",
      "execution_count": null,
      "id": "2e635409",
      "metadata": {
        "id": "2e635409"
      },
      "outputs": [],
      "source": []
    },
    {
      "cell_type": "code",
      "execution_count": null,
      "id": "b17f2d66",
      "metadata": {
        "id": "b17f2d66"
      },
      "outputs": [],
      "source": []
    },
    {
      "cell_type": "code",
      "execution_count": null,
      "id": "952bc710",
      "metadata": {
        "id": "952bc710"
      },
      "outputs": [],
      "source": []
    },
    {
      "cell_type": "markdown",
      "id": "d7b2f9bd",
      "metadata": {
        "id": "d7b2f9bd"
      },
      "source": [
        "### Linear algebra"
      ]
    },
    {
      "cell_type": "code",
      "execution_count": null,
      "id": "2acc4ab8",
      "metadata": {
        "id": "2acc4ab8"
      },
      "outputs": [],
      "source": []
    },
    {
      "cell_type": "markdown",
      "id": "13c5a3ec",
      "metadata": {
        "id": "13c5a3ec"
      },
      "source": [
        "###### Transpose matrix"
      ]
    },
    {
      "cell_type": "code",
      "execution_count": null,
      "id": "e87550ee",
      "metadata": {
        "id": "e87550ee"
      },
      "outputs": [],
      "source": []
    },
    {
      "cell_type": "markdown",
      "id": "e18dc9e4",
      "metadata": {
        "id": "e18dc9e4"
      },
      "source": [
        "###### Trace of a matrix:  $\\text{Tr}(M)$"
      ]
    },
    {
      "cell_type": "code",
      "execution_count": null,
      "id": "02a38585",
      "metadata": {
        "id": "02a38585"
      },
      "outputs": [],
      "source": []
    },
    {
      "cell_type": "markdown",
      "id": "7eb85b66",
      "metadata": {
        "id": "7eb85b66"
      },
      "source": [
        "###### Determinant of a matrix: $\\det(M)$"
      ]
    },
    {
      "cell_type": "code",
      "execution_count": null,
      "id": "b91994d6",
      "metadata": {
        "id": "b91994d6"
      },
      "outputs": [],
      "source": []
    },
    {
      "cell_type": "markdown",
      "id": "496ca989",
      "metadata": {
        "id": "496ca989"
      },
      "source": [
        "###### Inverse of a matrix: $M^{-1}$"
      ]
    },
    {
      "cell_type": "code",
      "execution_count": null,
      "id": "7d1daba2",
      "metadata": {
        "id": "7d1daba2"
      },
      "outputs": [],
      "source": []
    },
    {
      "cell_type": "markdown",
      "id": "aad3f368",
      "metadata": {
        "id": "aad3f368"
      },
      "source": [
        "###### Matrix multiplication"
      ]
    },
    {
      "cell_type": "code",
      "execution_count": null,
      "id": "68fc4a61",
      "metadata": {
        "id": "68fc4a61"
      },
      "outputs": [],
      "source": []
    },
    {
      "cell_type": "code",
      "execution_count": null,
      "id": "a8475373",
      "metadata": {
        "id": "a8475373"
      },
      "outputs": [],
      "source": []
    },
    {
      "cell_type": "markdown",
      "id": "23544ab9",
      "metadata": {
        "id": "23544ab9"
      },
      "source": [
        "###### Inner product of two vectors"
      ]
    },
    {
      "cell_type": "code",
      "execution_count": null,
      "id": "f30a3f2c",
      "metadata": {
        "id": "f30a3f2c"
      },
      "outputs": [],
      "source": []
    },
    {
      "cell_type": "markdown",
      "id": "9a2062b0",
      "metadata": {
        "id": "9a2062b0"
      },
      "source": [
        "###### Eigendecomposition of a matrix: $A = Q\\Lambda Q^{-1}$"
      ]
    },
    {
      "cell_type": "code",
      "execution_count": null,
      "id": "75317a8b",
      "metadata": {
        "id": "75317a8b"
      },
      "outputs": [],
      "source": []
    },
    {
      "cell_type": "code",
      "execution_count": null,
      "id": "4b677338",
      "metadata": {
        "id": "4b677338"
      },
      "outputs": [],
      "source": []
    },
    {
      "cell_type": "code",
      "execution_count": null,
      "id": "af979d90",
      "metadata": {
        "id": "af979d90"
      },
      "outputs": [],
      "source": []
    },
    {
      "cell_type": "markdown",
      "id": "e7070029",
      "metadata": {
        "id": "e7070029"
      },
      "source": [
        "###### Single value decomposition (SVD)"
      ]
    },
    {
      "cell_type": "code",
      "execution_count": null,
      "id": "0cdf4ee6",
      "metadata": {
        "id": "0cdf4ee6"
      },
      "outputs": [],
      "source": []
    },
    {
      "cell_type": "code",
      "execution_count": null,
      "id": "40463c4c",
      "metadata": {
        "id": "40463c4c"
      },
      "outputs": [],
      "source": []
    },
    {
      "cell_type": "code",
      "execution_count": null,
      "id": "ea0c01f8",
      "metadata": {
        "id": "ea0c01f8"
      },
      "outputs": [],
      "source": []
    },
    {
      "cell_type": "code",
      "execution_count": null,
      "id": "505088ce",
      "metadata": {
        "id": "505088ce"
      },
      "outputs": [],
      "source": []
    },
    {
      "cell_type": "code",
      "execution_count": null,
      "id": "3591ac6a",
      "metadata": {
        "id": "3591ac6a"
      },
      "outputs": [],
      "source": []
    },
    {
      "cell_type": "code",
      "execution_count": null,
      "id": "ee922dc6",
      "metadata": {
        "id": "ee922dc6"
      },
      "outputs": [],
      "source": []
    },
    {
      "cell_type": "code",
      "execution_count": null,
      "id": "0784d021",
      "metadata": {
        "id": "0784d021"
      },
      "outputs": [],
      "source": []
    },
    {
      "cell_type": "code",
      "execution_count": null,
      "id": "00a589bb",
      "metadata": {
        "id": "00a589bb"
      },
      "outputs": [],
      "source": []
    },
    {
      "cell_type": "code",
      "execution_count": null,
      "id": "3a7006a4",
      "metadata": {
        "id": "3a7006a4"
      },
      "outputs": [],
      "source": []
    },
    {
      "cell_type": "code",
      "execution_count": null,
      "id": "d464ef3e",
      "metadata": {
        "id": "d464ef3e"
      },
      "outputs": [],
      "source": []
    },
    {
      "cell_type": "code",
      "execution_count": null,
      "id": "bd3ec914",
      "metadata": {
        "id": "bd3ec914"
      },
      "outputs": [],
      "source": []
    },
    {
      "cell_type": "code",
      "execution_count": null,
      "id": "eaf5315c",
      "metadata": {
        "id": "eaf5315c"
      },
      "outputs": [],
      "source": []
    },
    {
      "cell_type": "code",
      "execution_count": null,
      "id": "2ce4b669",
      "metadata": {
        "id": "2ce4b669"
      },
      "outputs": [],
      "source": []
    },
    {
      "cell_type": "code",
      "execution_count": null,
      "id": "db261511",
      "metadata": {
        "id": "db261511"
      },
      "outputs": [],
      "source": []
    },
    {
      "cell_type": "code",
      "execution_count": null,
      "id": "2c458aee",
      "metadata": {
        "id": "2c458aee"
      },
      "outputs": [],
      "source": []
    },
    {
      "cell_type": "code",
      "execution_count": null,
      "id": "e6a177ce",
      "metadata": {
        "id": "e6a177ce"
      },
      "outputs": [],
      "source": []
    },
    {
      "cell_type": "code",
      "execution_count": null,
      "id": "31d9d80a",
      "metadata": {
        "id": "31d9d80a"
      },
      "outputs": [],
      "source": []
    },
    {
      "cell_type": "markdown",
      "id": "1e2a4a3c",
      "metadata": {
        "id": "1e2a4a3c"
      },
      "source": [
        "### Trigonometry"
      ]
    },
    {
      "cell_type": "code",
      "execution_count": null,
      "id": "34e3ed63",
      "metadata": {
        "id": "34e3ed63"
      },
      "outputs": [],
      "source": []
    },
    {
      "cell_type": "markdown",
      "id": "30445e41",
      "metadata": {
        "id": "30445e41"
      },
      "source": [
        "###### Sine function"
      ]
    },
    {
      "cell_type": "code",
      "execution_count": null,
      "id": "517b08f2",
      "metadata": {
        "id": "517b08f2"
      },
      "outputs": [],
      "source": []
    },
    {
      "cell_type": "markdown",
      "id": "46981a9d",
      "metadata": {
        "id": "46981a9d"
      },
      "source": [
        "###### Cosine function"
      ]
    },
    {
      "cell_type": "code",
      "execution_count": null,
      "id": "f4622fe8",
      "metadata": {
        "id": "f4622fe8"
      },
      "outputs": [],
      "source": []
    },
    {
      "cell_type": "markdown",
      "id": "0e448959",
      "metadata": {
        "id": "0e448959"
      },
      "source": [
        "###### Hyperbolic functions"
      ]
    },
    {
      "cell_type": "code",
      "execution_count": null,
      "id": "c684ee62",
      "metadata": {
        "id": "c684ee62"
      },
      "outputs": [],
      "source": []
    },
    {
      "cell_type": "code",
      "execution_count": null,
      "id": "e128c293",
      "metadata": {
        "id": "e128c293"
      },
      "outputs": [],
      "source": []
    },
    {
      "cell_type": "markdown",
      "id": "b7c21c95",
      "metadata": {
        "id": "b7c21c95"
      },
      "source": [
        "### Plotting the Julia set"
      ]
    },
    {
      "cell_type": "code",
      "execution_count": null,
      "id": "e5d90dfc",
      "metadata": {
        "id": "e5d90dfc"
      },
      "outputs": [],
      "source": []
    },
    {
      "cell_type": "code",
      "execution_count": null,
      "id": "af1adcb0",
      "metadata": {
        "id": "af1adcb0"
      },
      "outputs": [],
      "source": []
    },
    {
      "cell_type": "code",
      "execution_count": null,
      "id": "37b95ef3",
      "metadata": {
        "id": "37b95ef3"
      },
      "outputs": [],
      "source": []
    },
    {
      "cell_type": "code",
      "execution_count": null,
      "id": "f8df6c2e",
      "metadata": {
        "id": "f8df6c2e"
      },
      "outputs": [],
      "source": []
    },
    {
      "cell_type": "code",
      "execution_count": null,
      "id": "0bbeba98",
      "metadata": {
        "id": "0bbeba98"
      },
      "outputs": [],
      "source": []
    }
  ],
  "metadata": {
    "kernelspec": {
      "display_name": "Python 3",
      "language": "python",
      "name": "python3"
    },
    "language_info": {
      "codemirror_mode": {
        "name": "ipython",
        "version": 3
      },
      "file_extension": ".py",
      "mimetype": "text/x-python",
      "name": "python",
      "nbconvert_exporter": "python",
      "pygments_lexer": "ipython3",
      "version": "3.8.8"
    },
    "colab": {
      "provenance": []
    }
  },
  "nbformat": 4,
  "nbformat_minor": 5
}