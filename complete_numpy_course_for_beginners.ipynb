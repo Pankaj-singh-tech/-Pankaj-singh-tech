{
  "cells": [
    {
      "cell_type": "markdown",
      "id": "56758853",
      "metadata": {
        "id": "56758853"
      },
      "source": [
        "<div style=\"text-align:center\">\n",
        "        <h1>\n",
        "            Complete NumPy course for beginners\n",
        "        </h1>\n",
        "</div>\n",
        "\n",
        "<br><br>\n",
        "![download.jpeg](data:image/jpeg;base64,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)\n",
        "\n",
        "\n",
        "\n",
        "<br><br>"
      ]
    },
    {
      "cell_type": "code",
      "execution_count": 2,
      "id": "4eefd941",
      "metadata": {
        "id": "4eefd941"
      },
      "outputs": [],
      "source": [
        "import time\n",
        "import numpy as np\n",
        "import seaborn as sns\n",
        "import matplotlib.pyplot as plt\n",
        "import matplotlib.cm as cm\n",
        "from sklearn.datasets import load_sample_image"
      ]
    },
    {
      "cell_type": "code",
      "execution_count": 3,
      "id": "0122d25f",
      "metadata": {
        "colab": {
          "base_uri": "https://localhost:8080/",
          "height": 36
        },
        "id": "0122d25f",
        "outputId": "891b64d6-5504-4fbb-df5c-e38595400148"
      },
      "outputs": [
        {
          "output_type": "execute_result",
          "data": {
            "text/plain": [
              "'2.0.2'"
            ],
            "application/vnd.google.colaboratory.intrinsic+json": {
              "type": "string"
            }
          },
          "metadata": {},
          "execution_count": 3
        }
      ],
      "source": [
        "np.__version__"
      ]
    },
    {
      "cell_type": "markdown",
      "id": "8846b8f8",
      "metadata": {
        "id": "8846b8f8"
      },
      "source": [
        "### Array basics (ndarray class)\n",
        "\n",
        "<table style=\"width:75%\">\n",
        "\n",
        "  <tr style=\"background-color: transparent\">\n",
        "    <td valign=\"bottom\">\n",
        "        <img src=\"https://github.com/evlabs-jventajas/tutorials/blob/main/images/1d_array.png?raw=1\" width=\"200\"/>\n",
        "    </td>\n",
        "    <td valign=\"bottom\">\n",
        "        <img src=\"https://github.com/evlabs-jventajas/tutorials/blob/main/images/2d_array.png?raw=1\" width=\"200\"/>\n",
        "    </td>\n",
        "    <td valign=\"bottom\">\n",
        "        <img src=\"https://github.com/evlabs-jventajas/tutorials/blob/main/images/3d_array.png?raw=1\" width=\"250\"/>\n",
        "    </td>\n",
        "\n",
        "  </tr>\n",
        "\n",
        "</table>"
      ]
    },
    {
      "cell_type": "markdown",
      "id": "190127df",
      "metadata": {
        "id": "190127df"
      },
      "source": [
        "<table style=\"width:75%\">\n",
        "\n",
        "  <tr style=\"background-color: transparent\">\n",
        "    <td valign=\"bottom\">\n",
        "        <img src=\"https://github.com/evlabs-jventajas/tutorials/blob/main/images/txt_array.png?raw=1\" width=\"200\"/>\n",
        "    </td>\n",
        "    <td valign=\"bottom\">\n",
        "        <img src=\"https://github.com/evlabs-jventajas/tutorials/blob/main/images/bool_array.png?raw=1\" width=\"200\"/>\n",
        "    </td>\n",
        "    <td valign=\"bottom\">\n",
        "        <img src=\"https://github.com/evlabs-jventajas/tutorials/blob/main/images/obj_array.png?raw=1\" width=\"200\"/>\n",
        "    </td>\n",
        "\n",
        "  </tr>\n",
        "\n",
        "</table>"
      ]
    },
    {
      "cell_type": "markdown",
      "id": "345db300",
      "metadata": {
        "id": "345db300"
      },
      "source": [
        "###### Data types:\n",
        "\n",
        "- **Float**: np.float16, np.float32, np.float64\n",
        "\n",
        "\n",
        "- **Integer**: np.int8, np.int16, np.int32, np.int64, np.uint8, np.uint16, np.uint32, np.uint64\n",
        "\n",
        "\n",
        "- **Complex**: np.complex64, np.complex128\n",
        "\n",
        "\n",
        "- **Boolean**: np.bool\n",
        "\n",
        "\n",
        "- **String**: np.str\n",
        "\n",
        "\n",
        "- **Object**: np.object\n"
      ]
    },
    {
      "cell_type": "markdown",
      "id": "92e05335",
      "metadata": {
        "id": "92e05335"
      },
      "source": [
        "###### Advantages of NumPy n-dimensional arrays vs Python collections\n",
        "\n",
        "\n",
        "- Implemented in C\n",
        "\n",
        "\n",
        "- Memory efficiency\n",
        "\n",
        "\n",
        "- Flexibility\n",
        "\n",
        "\n",
        "- Vectorized operations\n",
        "\n",
        "\n",
        "- Processing speed"
      ]
    },
    {
      "cell_type": "markdown",
      "id": "88c00242",
      "metadata": {
        "id": "88c00242"
      },
      "source": [
        "### Why numpy?"
      ]
    },
    {
      "cell_type": "code",
      "execution_count": 4,
      "id": "bae4cbc7",
      "metadata": {
        "colab": {
          "base_uri": "https://localhost:8080/",
          "height": 592
        },
        "id": "bae4cbc7",
        "outputId": "3154c9ae-72b7-4f12-cc66-1e450eafecf8"
      },
      "outputs": [
        {
          "output_type": "execute_result",
          "data": {
            "text/plain": [
              "<Axes: title={'center': 'Execution time in seconds'}, xlabel='Array size', ylabel='Execution time'>"
            ]
          },
          "metadata": {},
          "execution_count": 4
        },
        {
          "output_type": "display_data",
          "data": {
            "text/plain": [
              "<Figure size 800x600 with 1 Axes>"
            ],
            "image/png": "[encoded data removed]"
          },
          "metadata": {}
        }
      ],
      "source": [
        "def sum_python(n):\n",
        "    a = [i for i in range(n)]\n",
        "    b = [i for i in range(n)]\n",
        "    c = [None] * n\n",
        "    start = time.perf_counter()\n",
        "    for i in range(n):\n",
        "        c[i] = a[i] + b[i]\n",
        "    end = time.perf_counter()\n",
        "    return end - start\n",
        "\n",
        "def sum_numpy(n):\n",
        "    a = np.arange(n)\n",
        "    b = np.arange(n)\n",
        "    start = time.perf_counter()\n",
        "    c = a + b\n",
        "    end = time.perf_counter()\n",
        "    return end - start\n",
        "\n",
        "experiments = [100, 1000, 10000, 1000000]\n",
        "python_results = [sum_python(n) for n in experiments]\n",
        "numpy_results = [sum_numpy(n) for n in experiments]\n",
        "\n",
        "plt.figure(figsize=(8, 6))\n",
        "plt.xlabel(\"Array size\", size=14)\n",
        "plt.ylabel(\"Execution time\", size=14)\n",
        "plt.title(\"Execution time in seconds\", size=18)\n",
        "sns.lineplot(x=experiments, y=python_results, color='r', label='Python list')\n",
        "sns.lineplot(x=experiments, y=numpy_results, color='b', label='NumPy')"
      ]
    },
    {
      "cell_type": "code",
      "execution_count": 5,
      "id": "1803deee",
      "metadata": {
        "colab": {
          "base_uri": "https://localhost:8080/"
        },
        "id": "1803deee",
        "outputId": "76eb815c-61d2-4bf8-bed6-5551675359ce"
      },
      "outputs": [
        {
          "output_type": "execute_result",
          "data": {
            "text/plain": [
              "array([[10,  9,  8,  7,  6],\n",
              "       [ 5,  4,  3,  2,  1]])"
            ]
          },
          "metadata": {},
          "execution_count": 5
        }
      ],
      "source": [
        "first_array=np.array([[10,9,8,7,6],[5,4,3,2,1]])\n",
        "first_array"
      ]
    },
    {
      "cell_type": "markdown",
      "id": "cdcf8880",
      "metadata": {
        "id": "cdcf8880"
      },
      "source": [
        "###### Array properties"
      ]
    },
    {
      "cell_type": "code",
      "execution_count": 6,
      "id": "0d2b5304",
      "metadata": {
        "colab": {
          "base_uri": "https://localhost:8080/"
        },
        "id": "0d2b5304",
        "outputId": "d2ddd93e-9195-4259-bf99-69c21a441da6"
      },
      "outputs": [
        {
          "output_type": "execute_result",
          "data": {
            "text/plain": [
              "2"
            ]
          },
          "metadata": {},
          "execution_count": 6
        }
      ],
      "source": [
        "first_array.ndim"
      ]
    },
    {
      "cell_type": "code",
      "execution_count": 7,
      "id": "62451fc5",
      "metadata": {
        "colab": {
          "base_uri": "https://localhost:8080/"
        },
        "id": "62451fc5",
        "outputId": "cd81dbe5-9d11-48e7-ce43-9efb6a1f8556"
      },
      "outputs": [
        {
          "output_type": "execute_result",
          "data": {
            "text/plain": [
              "10"
            ]
          },
          "metadata": {},
          "execution_count": 7
        }
      ],
      "source": [
        "first_array.size"
      ]
    },
    {
      "cell_type": "code",
      "execution_count": 8,
      "id": "eb436713",
      "metadata": {
        "colab": {
          "base_uri": "https://localhost:8080/"
        },
        "id": "eb436713",
        "outputId": "89e6ef2f-cc87-4a82-befa-0b83c2083754"
      },
      "outputs": [
        {
          "output_type": "execute_result",
          "data": {
            "text/plain": [
              "(2, 5)"
            ]
          },
          "metadata": {},
          "execution_count": 8
        }
      ],
      "source": [
        "first_array.shape"
      ]
    },
    {
      "cell_type": "markdown",
      "id": "7e9676bd",
      "metadata": {
        "id": "7e9676bd"
      },
      "source": [
        "### Indexing and slicing"
      ]
    },
    {
      "cell_type": "code",
      "execution_count": 9,
      "id": "2f61c65e",
      "metadata": {
        "colab": {
          "base_uri": "https://localhost:8080/"
        },
        "id": "2f61c65e",
        "outputId": "2eb27a95-e16f-4f40-b741-aa6074086fee"
      },
      "outputs": [
        {
          "output_type": "execute_result",
          "data": {
            "text/plain": [
              "array([10,  9,  8,  7,  6])"
            ]
          },
          "metadata": {},
          "execution_count": 9
        }
      ],
      "source": [
        "first_array[0]"
      ]
    },
    {
      "cell_type": "code",
      "execution_count": 10,
      "id": "78cf999f",
      "metadata": {
        "colab": {
          "base_uri": "https://localhost:8080/"
        },
        "id": "78cf999f",
        "outputId": "65cdea75-4cea-4e4c-eb57-809059971c05"
      },
      "outputs": [
        {
          "output_type": "execute_result",
          "data": {
            "text/plain": [
              "np.int64(3)"
            ]
          },
          "metadata": {},
          "execution_count": 10
        }
      ],
      "source": [
        "first_array[1,2]"
      ]
    },
    {
      "cell_type": "code",
      "execution_count": 11,
      "id": "236c71b6",
      "metadata": {
        "colab": {
          "base_uri": "https://localhost:8080/"
        },
        "id": "236c71b6",
        "outputId": "2c9430a3-6d79-41d5-e0bb-4e31360989a6"
      },
      "outputs": [
        {
          "output_type": "execute_result",
          "data": {
            "text/plain": [
              "array([5, 4, 3, 2, 1])"
            ]
          },
          "metadata": {},
          "execution_count": 11
        }
      ],
      "source": [
        "first_array[1,0:5]"
      ]
    },
    {
      "cell_type": "code",
      "execution_count": 12,
      "id": "294b1e5d",
      "metadata": {
        "colab": {
          "base_uri": "https://localhost:8080/"
        },
        "id": "294b1e5d",
        "outputId": "b1c608a9-9b48-40eb-b003-08a3e5d52d66"
      },
      "outputs": [
        {
          "output_type": "execute_result",
          "data": {
            "text/plain": [
              "array([[9, 8],\n",
              "       [4, 3]])"
            ]
          },
          "metadata": {},
          "execution_count": 12
        }
      ],
      "source": [
        "first_array[0:,1:3]"
      ]
    },
    {
      "cell_type": "code",
      "execution_count": 13,
      "id": "c73502a7",
      "metadata": {
        "colab": {
          "base_uri": "https://localhost:8080/"
        },
        "id": "c73502a7",
        "outputId": "dfc3a82d-13b4-4f85-b43c-0b185848c804"
      },
      "outputs": [
        {
          "output_type": "execute_result",
          "data": {
            "text/plain": [
              "array([8, 7, 6])"
            ]
          },
          "metadata": {},
          "execution_count": 13
        }
      ],
      "source": [
        "first_array[0,-3:]"
      ]
    },
    {
      "cell_type": "code",
      "execution_count": 14,
      "id": "e0d5f50e",
      "metadata": {
        "colab": {
          "base_uri": "https://localhost:8080/"
        },
        "id": "e0d5f50e",
        "outputId": "3393aedc-460f-46d8-947f-523d1d6b7fa2"
      },
      "outputs": [
        {
          "output_type": "execute_result",
          "data": {
            "text/plain": [
              "array([[ True,  True,  True,  True,  True],\n",
              "       [ True, False, False, False, False]])"
            ]
          },
          "metadata": {},
          "execution_count": 14
        }
      ],
      "source": [
        "greater_four=first_array>4\n",
        "greater_four"
      ]
    },
    {
      "cell_type": "code",
      "execution_count": 15,
      "id": "067100e8",
      "metadata": {
        "colab": {
          "base_uri": "https://localhost:8080/"
        },
        "id": "067100e8",
        "outputId": "eaa58f7a-d880-437b-e594-62bdbc21ee55"
      },
      "outputs": [
        {
          "output_type": "execute_result",
          "data": {
            "text/plain": [
              "array([10,  9,  8,  7,  6,  5])"
            ]
          },
          "metadata": {},
          "execution_count": 15
        }
      ],
      "source": [
        "first_array[greater_four]"
      ]
    },
    {
      "cell_type": "code",
      "execution_count": 16,
      "id": "72610d40",
      "metadata": {
        "colab": {
          "base_uri": "https://localhost:8080/"
        },
        "id": "72610d40",
        "outputId": "cc21936f-ee19-40e7-d954-36ddc239123e"
      },
      "outputs": [
        {
          "output_type": "execute_result",
          "data": {
            "text/plain": [
              "array([[ True, False,  True, False,  True],\n",
              "       [False,  True, False,  True, False]])"
            ]
          },
          "metadata": {},
          "execution_count": 16
        }
      ],
      "source": [
        "even_array = first_array % 2 == 0\n",
        "even_array"
      ]
    },
    {
      "cell_type": "code",
      "execution_count": 17,
      "id": "2716e9b6",
      "metadata": {
        "colab": {
          "base_uri": "https://localhost:8080/"
        },
        "id": "2716e9b6",
        "outputId": "2ad4f606-89b6-4e38-cc0b-6301e7aca391"
      },
      "outputs": [
        {
          "output_type": "execute_result",
          "data": {
            "text/plain": [
              "(array([0, 0, 0, 1, 1]), array([0, 2, 4, 1, 3]))"
            ]
          },
          "metadata": {},
          "execution_count": 17
        }
      ],
      "source": [
        "np.nonzero(even_array)"
      ]
    },
    {
      "cell_type": "markdown",
      "id": "5834caa4",
      "metadata": {
        "id": "5834caa4"
      },
      "source": [
        "### Copying and editing arrays"
      ]
    },
    {
      "cell_type": "code",
      "execution_count": 18,
      "id": "bfb85fed",
      "metadata": {
        "colab": {
          "base_uri": "https://localhost:8080/"
        },
        "id": "bfb85fed",
        "outputId": "11777d30-2395-4857-8b9b-6a1461684fdb"
      },
      "outputs": [
        {
          "output_type": "execute_result",
          "data": {
            "text/plain": [
              "array([[0, 0, 0, 0, 0],\n",
              "       [0, 0, 0, 0, 0]])"
            ]
          },
          "metadata": {},
          "execution_count": 18
        }
      ],
      "source": [
        "zeros_array=np.zeros_like(first_array)\n",
        "zeros_array"
      ]
    },
    {
      "cell_type": "code",
      "execution_count": 19,
      "id": "1c0c4296",
      "metadata": {
        "colab": {
          "base_uri": "https://localhost:8080/"
        },
        "id": "1c0c4296",
        "outputId": "98c3f11f-2cae-42c6-fbb0-177659f79e2a"
      },
      "outputs": [
        {
          "output_type": "execute_result",
          "data": {
            "text/plain": [
              "array([[0, 0, 0, 0, 0],\n",
              "       [0, 0, 0, 0, 0]])"
            ]
          },
          "metadata": {},
          "execution_count": 19
        }
      ],
      "source": [
        "new_ref =zeros_array\n",
        "new_ref"
      ]
    },
    {
      "cell_type": "code",
      "execution_count": 20,
      "id": "22665feb",
      "metadata": {
        "colab": {
          "base_uri": "https://localhost:8080/"
        },
        "id": "22665feb",
        "outputId": "c793a1ee-e7ac-4f68-e9b2-9b26d44045a2"
      },
      "outputs": [
        {
          "output_type": "execute_result",
          "data": {
            "text/plain": [
              "(array([[1, 0, 0, 0, 0],\n",
              "        [0, 0, 0, 0, 0]]),\n",
              " array([[1, 0, 0, 0, 0],\n",
              "        [0, 0, 0, 0, 0]]))"
            ]
          },
          "metadata": {},
          "execution_count": 20
        }
      ],
      "source": [
        "new_ref[0,0]=1\n",
        "new_ref,zeros_array"
      ]
    },
    {
      "cell_type": "code",
      "execution_count": 21,
      "id": "ab9073c6",
      "metadata": {
        "colab": {
          "base_uri": "https://localhost:8080/"
        },
        "id": "ab9073c6",
        "outputId": "f85cf14b-5f1d-4f22-b89a-65b7326f3084"
      },
      "outputs": [
        {
          "output_type": "execute_result",
          "data": {
            "text/plain": [
              "(array([[1, 0, 0, 0, 0],\n",
              "        [0, 0, 0, 0, 0]]),\n",
              " array([[0, 0, 0, 0, 0],\n",
              "        [0, 0, 0, 0, 0]]))"
            ]
          },
          "metadata": {},
          "execution_count": 21
        }
      ],
      "source": [
        "zeros_array = np.zeros_like(first_array)\n",
        "new_copy = zeros_array.copy()\n",
        "new_copy[0,0]=1\n",
        "new_copy,zeros_array"
      ]
    },
    {
      "cell_type": "markdown",
      "id": "ec4cc5ff",
      "metadata": {
        "id": "ec4cc5ff"
      },
      "source": [
        "### Reshaping and stacking arrays"
      ]
    },
    {
      "cell_type": "code",
      "execution_count": 22,
      "id": "ba584643",
      "metadata": {
        "colab": {
          "base_uri": "https://localhost:8080/"
        },
        "id": "ba584643",
        "outputId": "68d6f3c1-d2d9-4e39-ef0a-6a182ab60042"
      },
      "outputs": [
        {
          "output_type": "execute_result",
          "data": {
            "text/plain": [
              "array([[8, 7, 6]])"
            ]
          },
          "metadata": {},
          "execution_count": 22
        }
      ],
      "source": [
        "peice_1=first_array[0:1,2:5]\n",
        "peice_1"
      ]
    },
    {
      "cell_type": "code",
      "execution_count": 23,
      "id": "459913da",
      "metadata": {
        "colab": {
          "base_uri": "https://localhost:8080/"
        },
        "id": "459913da",
        "outputId": "3e35675a-1603-438b-834c-a538307867cb"
      },
      "outputs": [
        {
          "output_type": "execute_result",
          "data": {
            "text/plain": [
              "array([[4, 3, 2]])"
            ]
          },
          "metadata": {},
          "execution_count": 23
        }
      ],
      "source": [
        "peice_2=first_array[1:2,1:4]\n",
        "peice_2"
      ]
    },
    {
      "cell_type": "markdown",
      "id": "f942f6ef",
      "metadata": {
        "id": "f942f6ef"
      },
      "source": [
        "###### Stacking"
      ]
    },
    {
      "cell_type": "code",
      "execution_count": 24,
      "id": "7d04bd8f",
      "metadata": {
        "colab": {
          "base_uri": "https://localhost:8080/"
        },
        "id": "7d04bd8f",
        "outputId": "55b5ba32-b419-425b-afad-0fcdb255345e"
      },
      "outputs": [
        {
          "output_type": "execute_result",
          "data": {
            "text/plain": [
              "array([[8, 7, 6],\n",
              "       [4, 3, 2]])"
            ]
          },
          "metadata": {},
          "execution_count": 24
        }
      ],
      "source": [
        "np.vstack((peice_1,peice_2))"
      ]
    },
    {
      "cell_type": "code",
      "execution_count": 25,
      "id": "b7445d93",
      "metadata": {
        "colab": {
          "base_uri": "https://localhost:8080/"
        },
        "id": "b7445d93",
        "outputId": "d7be3a5d-4291-49ed-a480-4a45a4d3e7d1"
      },
      "outputs": [
        {
          "output_type": "execute_result",
          "data": {
            "text/plain": [
              "array([[8, 7, 6, 4, 3, 2]])"
            ]
          },
          "metadata": {},
          "execution_count": 25
        }
      ],
      "source": [
        "np.hstack((peice_1,peice_2))"
      ]
    },
    {
      "cell_type": "code",
      "execution_count": 26,
      "id": "129359ae",
      "metadata": {
        "colab": {
          "base_uri": "https://localhost:8080/"
        },
        "id": "129359ae",
        "outputId": "444bae9f-b394-4ce6-8c72-aa33ac9ccbc2"
      },
      "outputs": [
        {
          "output_type": "execute_result",
          "data": {
            "text/plain": [
              "array([[[8, 7, 6]],\n",
              "\n",
              "       [[4, 3, 2]]])"
            ]
          },
          "metadata": {},
          "execution_count": 26
        }
      ],
      "source": [
        "np.stack((peice_1,peice_2))\n",
        "# np.stack((peice_1,peice_2)).ndim\n",
        "# np.stack((peice_1,peice_2)).shape"
      ]
    },
    {
      "cell_type": "code",
      "execution_count": 27,
      "id": "c32983c6",
      "metadata": {
        "colab": {
          "base_uri": "https://localhost:8080/"
        },
        "id": "c32983c6",
        "outputId": "c6505b26-d3e5-44b0-ccda-e696a23c199b"
      },
      "outputs": [
        {
          "output_type": "execute_result",
          "data": {
            "text/plain": [
              "[array([[10,  9,  8,  7,  6]]), array([[5, 4, 3, 2, 1]])]"
            ]
          },
          "metadata": {},
          "execution_count": 27
        }
      ],
      "source": [
        "np.vsplit(first_array,(1,))"
      ]
    },
    {
      "cell_type": "code",
      "execution_count": 28,
      "id": "05cfd1fe",
      "metadata": {
        "colab": {
          "base_uri": "https://localhost:8080/"
        },
        "id": "05cfd1fe",
        "outputId": "8a44c73f-8265-492d-b9dc-d300e498d187"
      },
      "outputs": [
        {
          "output_type": "execute_result",
          "data": {
            "text/plain": [
              "[array([[10,  9],\n",
              "        [ 5,  4]]),\n",
              " array([[8, 7, 6],\n",
              "        [3, 2, 1]])]"
            ]
          },
          "metadata": {},
          "execution_count": 28
        }
      ],
      "source": [
        "np.hsplit(first_array,(2,))"
      ]
    },
    {
      "cell_type": "markdown",
      "id": "846b7951",
      "metadata": {
        "id": "846b7951"
      },
      "source": [
        "###### Adding new axes"
      ]
    },
    {
      "cell_type": "code",
      "execution_count": 29,
      "id": "b389d1cb",
      "metadata": {
        "colab": {
          "base_uri": "https://localhost:8080/"
        },
        "id": "b389d1cb",
        "outputId": "257f1b53-bae7-4193-a53d-f749d31c39f5"
      },
      "outputs": [
        {
          "output_type": "execute_result",
          "data": {
            "text/plain": [
              "array([0, 1, 2, 3, 4])"
            ]
          },
          "metadata": {},
          "execution_count": 29
        }
      ],
      "source": [
        "range_array = np.arange(5)\n",
        "range_array"
      ]
    },
    {
      "cell_type": "code",
      "execution_count": 30,
      "id": "9168b5ce",
      "metadata": {
        "colab": {
          "base_uri": "https://localhost:8080/"
        },
        "id": "9168b5ce",
        "outputId": "ca04ef88-79fc-4270-cae1-70555c55898e"
      },
      "outputs": [
        {
          "output_type": "execute_result",
          "data": {
            "text/plain": [
              "array([[0, 1, 2, 3, 4]])"
            ]
          },
          "metadata": {},
          "execution_count": 30
        }
      ],
      "source": [
        "np.expand_dims(range_array,axis=0)"
      ]
    },
    {
      "cell_type": "code",
      "execution_count": 31,
      "id": "95cef45c",
      "metadata": {
        "colab": {
          "base_uri": "https://localhost:8080/"
        },
        "id": "95cef45c",
        "outputId": "0046b730-bf1e-4cb1-a7a3-e4ef7a81e384"
      },
      "outputs": [
        {
          "output_type": "execute_result",
          "data": {
            "text/plain": [
              "array([[0, 1, 2, 3, 4]])"
            ]
          },
          "metadata": {},
          "execution_count": 31
        }
      ],
      "source": [
        "range_array[np.newaxis,:]"
      ]
    },
    {
      "cell_type": "code",
      "execution_count": 32,
      "id": "a7cd5d2d",
      "metadata": {
        "colab": {
          "base_uri": "https://localhost:8080/"
        },
        "id": "a7cd5d2d",
        "outputId": "6258903f-aadf-44b3-cad3-ffefa0de7357"
      },
      "outputs": [
        {
          "output_type": "execute_result",
          "data": {
            "text/plain": [
              "array([[0],\n",
              "       [1],\n",
              "       [2],\n",
              "       [3],\n",
              "       [4]])"
            ]
          },
          "metadata": {},
          "execution_count": 32
        }
      ],
      "source": [
        "np.expand_dims(range_array,axis=1)"
      ]
    },
    {
      "cell_type": "code",
      "execution_count": 33,
      "id": "83368244",
      "metadata": {
        "colab": {
          "base_uri": "https://localhost:8080/"
        },
        "id": "83368244",
        "outputId": "0ee82c79-eb50-40ea-c572-8ccde667ec7c"
      },
      "outputs": [
        {
          "output_type": "execute_result",
          "data": {
            "text/plain": [
              "array([[0],\n",
              "       [1],\n",
              "       [2],\n",
              "       [3],\n",
              "       [4]])"
            ]
          },
          "metadata": {},
          "execution_count": 33
        }
      ],
      "source": [
        "range_array[:,np.newaxis]"
      ]
    },
    {
      "cell_type": "markdown",
      "id": "de5eb5f6",
      "metadata": {
        "id": "de5eb5f6"
      },
      "source": [
        "###### Reshaping"
      ]
    },
    {
      "cell_type": "code",
      "execution_count": 34,
      "id": "b72462c0",
      "metadata": {
        "colab": {
          "base_uri": "https://localhost:8080/"
        },
        "id": "b72462c0",
        "outputId": "5fe67f15-4a5f-49e8-d8fd-cac1bf9e5a57"
      },
      "outputs": [
        {
          "output_type": "execute_result",
          "data": {
            "text/plain": [
              "array([ 0,  1,  2,  3,  4,  5,  6,  7,  8,  9, 10, 11, 12, 13, 14, 15, 16,\n",
              "       17, 18, 19, 20, 21, 22, 23, 24, 25, 26, 27, 28, 29, 30, 31, 32, 33,\n",
              "       34, 35, 36, 37, 38, 39, 40, 41, 42, 43, 44, 45, 46, 47, 48, 49, 50,\n",
              "       51, 52, 53, 54, 55, 56, 57, 58, 59, 60, 61, 62, 63])"
            ]
          },
          "metadata": {},
          "execution_count": 34
        }
      ],
      "source": [
        "range_array=np.arange(64)\n",
        "range_array"
      ]
    },
    {
      "cell_type": "code",
      "execution_count": 35,
      "id": "2e872c95",
      "metadata": {
        "colab": {
          "base_uri": "https://localhost:8080/"
        },
        "id": "2e872c95",
        "outputId": "8709dde4-5aed-40ca-8dc8-3ed3e188ba93"
      },
      "outputs": [
        {
          "output_type": "execute_result",
          "data": {
            "text/plain": [
              "array([[ 0,  1,  2,  3,  4,  5,  6,  7,  8,  9, 10, 11, 12, 13, 14, 15],\n",
              "       [16, 17, 18, 19, 20, 21, 22, 23, 24, 25, 26, 27, 28, 29, 30, 31],\n",
              "       [32, 33, 34, 35, 36, 37, 38, 39, 40, 41, 42, 43, 44, 45, 46, 47],\n",
              "       [48, 49, 50, 51, 52, 53, 54, 55, 56, 57, 58, 59, 60, 61, 62, 63]])"
            ]
          },
          "metadata": {},
          "execution_count": 35
        }
      ],
      "source": [
        "range_array.reshape(4,16)"
      ]
    },
    {
      "cell_type": "code",
      "execution_count": 36,
      "id": "887fb383",
      "metadata": {
        "colab": {
          "base_uri": "https://localhost:8080/"
        },
        "id": "887fb383",
        "outputId": "303f4813-b2d4-44ec-d150-6043f345dc90"
      },
      "outputs": [
        {
          "output_type": "execute_result",
          "data": {
            "text/plain": [
              "array([[ 0,  1,  2,  3,  4,  5,  6,  7,  8,  9, 10, 11, 12, 13, 14, 15],\n",
              "       [16, 17, 18, 19, 20, 21, 22, 23, 24, 25, 26, 27, 28, 29, 30, 31],\n",
              "       [32, 33, 34, 35, 36, 37, 38, 39, 40, 41, 42, 43, 44, 45, 46, 47],\n",
              "       [48, 49, 50, 51, 52, 53, 54, 55, 56, 57, 58, 59, 60, 61, 62, 63]])"
            ]
          },
          "metadata": {},
          "execution_count": 36
        }
      ],
      "source": [
        "range_array.reshape(4,-1)"
      ]
    },
    {
      "cell_type": "code",
      "execution_count": 37,
      "id": "6015ee56",
      "metadata": {
        "colab": {
          "base_uri": "https://localhost:8080/"
        },
        "id": "6015ee56",
        "outputId": "bf91d1ff-29b3-4abf-a488-eba2cdece03a"
      },
      "outputs": [
        {
          "output_type": "execute_result",
          "data": {
            "text/plain": [
              "array([[[ 0,  1,  2,  3],\n",
              "        [ 4,  5,  6,  7],\n",
              "        [ 8,  9, 10, 11],\n",
              "        [12, 13, 14, 15]],\n",
              "\n",
              "       [[16, 17, 18, 19],\n",
              "        [20, 21, 22, 23],\n",
              "        [24, 25, 26, 27],\n",
              "        [28, 29, 30, 31]],\n",
              "\n",
              "       [[32, 33, 34, 35],\n",
              "        [36, 37, 38, 39],\n",
              "        [40, 41, 42, 43],\n",
              "        [44, 45, 46, 47]],\n",
              "\n",
              "       [[48, 49, 50, 51],\n",
              "        [52, 53, 54, 55],\n",
              "        [56, 57, 58, 59],\n",
              "        [60, 61, 62, 63]]])"
            ]
          },
          "metadata": {},
          "execution_count": 37
        }
      ],
      "source": [
        "range_array.reshape(4,4,4)"
      ]
    },
    {
      "cell_type": "code",
      "execution_count": 38,
      "id": "f0e1cfdb",
      "metadata": {
        "colab": {
          "base_uri": "https://localhost:8080/"
        },
        "id": "f0e1cfdb",
        "outputId": "031e3773-e852-4770-b273-afbe0a0302df"
      },
      "outputs": [
        {
          "output_type": "execute_result",
          "data": {
            "text/plain": [
              "array([ 0,  1,  2,  3,  4,  5,  6,  7,  8,  9, 10, 11, 12, 13, 14, 15, 16,\n",
              "       17, 18, 19, 20, 21, 22, 23, 24, 25, 26, 27, 28, 29, 30, 31, 32, 33,\n",
              "       34, 35, 36, 37, 38, 39, 40, 41, 42, 43, 44, 45, 46, 47, 48, 49, 50,\n",
              "       51, 52, 53, 54, 55, 56, 57, 58, 59, 60, 61, 62, 63])"
            ]
          },
          "metadata": {},
          "execution_count": 38
        }
      ],
      "source": [
        "flat_array=range_array.flatten()\n",
        "flat_array"
      ]
    },
    {
      "cell_type": "code",
      "execution_count": 39,
      "id": "ea874155",
      "metadata": {
        "colab": {
          "base_uri": "https://localhost:8080/"
        },
        "id": "ea874155",
        "outputId": "43e84134-f942-4434-f156-46d898fec9cc"
      },
      "outputs": [
        {
          "output_type": "execute_result",
          "data": {
            "text/plain": [
              "((64,), (64,))"
            ]
          },
          "metadata": {},
          "execution_count": 39
        }
      ],
      "source": [
        "range_array.shape, flat_array.shape"
      ]
    },
    {
      "cell_type": "markdown",
      "id": "9ec8d501",
      "metadata": {
        "id": "9ec8d501"
      },
      "source": [
        "### Arithmetic operations"
      ]
    },
    {
      "cell_type": "code",
      "execution_count": 39,
      "id": "0fd32799",
      "metadata": {
        "id": "0fd32799"
      },
      "outputs": [],
      "source": []
    },
    {
      "cell_type": "code",
      "execution_count": 39,
      "id": "5738c026",
      "metadata": {
        "id": "5738c026"
      },
      "outputs": [],
      "source": []
    },
    {
      "cell_type": "code",
      "execution_count": 39,
      "id": "832d4ab0",
      "metadata": {
        "id": "832d4ab0"
      },
      "outputs": [],
      "source": []
    },
    {
      "cell_type": "code",
      "execution_count": 39,
      "id": "a88173df",
      "metadata": {
        "id": "a88173df"
      },
      "outputs": [],
      "source": []
    },
    {
      "cell_type": "code",
      "execution_count": 39,
      "id": "fa225438",
      "metadata": {
        "id": "fa225438"
      },
      "outputs": [],
      "source": []
    },
    {
      "cell_type": "code",
      "execution_count": 39,
      "id": "9f8afb22",
      "metadata": {
        "id": "9f8afb22"
      },
      "outputs": [],
      "source": []
    },
    {
      "cell_type": "code",
      "execution_count": 39,
      "id": "2c3f039d",
      "metadata": {
        "id": "2c3f039d"
      },
      "outputs": [],
      "source": []
    },
    {
      "cell_type": "code",
      "execution_count": 39,
      "id": "a4b06f96",
      "metadata": {
        "id": "a4b06f96"
      },
      "outputs": [],
      "source": []
    },
    {
      "cell_type": "code",
      "execution_count": 39,
      "id": "538b7ea0",
      "metadata": {
        "id": "538b7ea0"
      },
      "outputs": [],
      "source": []
    },
    {
      "cell_type": "code",
      "execution_count": 39,
      "id": "54653221",
      "metadata": {
        "id": "54653221"
      },
      "outputs": [],
      "source": []
    },
    {
      "cell_type": "code",
      "execution_count": 39,
      "id": "ca27dcbf",
      "metadata": {
        "id": "ca27dcbf"
      },
      "outputs": [],
      "source": []
    },
    {
      "cell_type": "markdown",
      "id": "3c0a272f",
      "metadata": {
        "id": "3c0a272f"
      },
      "source": [
        "### Applying a mathematical formula: $f(x) = \\frac {1} {\\sigma \\sqrt{2\\pi}} e^{-\\frac {1}{2} \\left(\\frac {x - \\mu} {\\sigma}\\right)^2}$"
      ]
    },
    {
      "cell_type": "code",
      "execution_count": 39,
      "id": "ce5a77b9",
      "metadata": {
        "id": "ce5a77b9"
      },
      "outputs": [],
      "source": []
    },
    {
      "cell_type": "markdown",
      "id": "a170a1df",
      "metadata": {
        "id": "a170a1df"
      },
      "source": [
        "### Broadcasting"
      ]
    },
    {
      "cell_type": "code",
      "execution_count": 39,
      "id": "674c645e",
      "metadata": {
        "id": "674c645e"
      },
      "outputs": [],
      "source": []
    },
    {
      "cell_type": "code",
      "execution_count": 39,
      "id": "1c44971c",
      "metadata": {
        "id": "1c44971c"
      },
      "outputs": [],
      "source": []
    },
    {
      "cell_type": "code",
      "execution_count": 39,
      "id": "dfdac7b9",
      "metadata": {
        "id": "dfdac7b9"
      },
      "outputs": [],
      "source": []
    },
    {
      "cell_type": "code",
      "execution_count": 39,
      "id": "d36128b6",
      "metadata": {
        "id": "d36128b6"
      },
      "outputs": [],
      "source": []
    },
    {
      "cell_type": "code",
      "execution_count": 39,
      "id": "f15fb5ef",
      "metadata": {
        "id": "f15fb5ef"
      },
      "outputs": [],
      "source": []
    },
    {
      "cell_type": "code",
      "execution_count": 39,
      "id": "98627577",
      "metadata": {
        "id": "98627577"
      },
      "outputs": [],
      "source": []
    },
    {
      "cell_type": "markdown",
      "id": "357d7432",
      "metadata": {
        "id": "357d7432"
      },
      "source": [
        "### Basic operations"
      ]
    },
    {
      "cell_type": "code",
      "execution_count": 39,
      "id": "f2f4241d",
      "metadata": {
        "id": "f2f4241d"
      },
      "outputs": [],
      "source": []
    },
    {
      "cell_type": "code",
      "execution_count": 39,
      "id": "2cad696c",
      "metadata": {
        "id": "2cad696c"
      },
      "outputs": [],
      "source": []
    },
    {
      "cell_type": "code",
      "execution_count": 39,
      "id": "48ac5e0d",
      "metadata": {
        "scrolled": true,
        "id": "48ac5e0d"
      },
      "outputs": [],
      "source": []
    },
    {
      "cell_type": "code",
      "execution_count": 39,
      "id": "4b625f8e",
      "metadata": {
        "id": "4b625f8e"
      },
      "outputs": [],
      "source": []
    },
    {
      "cell_type": "code",
      "execution_count": 39,
      "id": "4eb1f503",
      "metadata": {
        "id": "4eb1f503"
      },
      "outputs": [],
      "source": []
    },
    {
      "cell_type": "code",
      "execution_count": 39,
      "id": "97bd1593",
      "metadata": {
        "id": "97bd1593"
      },
      "outputs": [],
      "source": []
    },
    {
      "cell_type": "markdown",
      "id": "fe5b9996",
      "metadata": {
        "id": "fe5b9996"
      },
      "source": [
        "###### Concatenate arrays"
      ]
    },
    {
      "cell_type": "code",
      "execution_count": 39,
      "id": "b7e2a4ac",
      "metadata": {
        "id": "b7e2a4ac"
      },
      "outputs": [],
      "source": []
    },
    {
      "cell_type": "code",
      "execution_count": 39,
      "id": "a726b6be",
      "metadata": {
        "id": "a726b6be"
      },
      "outputs": [],
      "source": []
    },
    {
      "cell_type": "code",
      "execution_count": 39,
      "id": "f2df279f",
      "metadata": {
        "id": "f2df279f"
      },
      "outputs": [],
      "source": []
    },
    {
      "cell_type": "markdown",
      "id": "fef11a21",
      "metadata": {
        "id": "fef11a21"
      },
      "source": [
        "###### Flip arrays"
      ]
    },
    {
      "cell_type": "code",
      "execution_count": 39,
      "id": "24397e7b",
      "metadata": {
        "id": "24397e7b"
      },
      "outputs": [],
      "source": []
    },
    {
      "cell_type": "code",
      "execution_count": 39,
      "id": "8f1543de",
      "metadata": {
        "id": "8f1543de"
      },
      "outputs": [],
      "source": []
    },
    {
      "cell_type": "code",
      "execution_count": 39,
      "id": "a3c31962",
      "metadata": {
        "id": "a3c31962"
      },
      "outputs": [],
      "source": []
    },
    {
      "cell_type": "code",
      "execution_count": 39,
      "id": "3aef8448",
      "metadata": {
        "id": "3aef8448"
      },
      "outputs": [],
      "source": []
    },
    {
      "cell_type": "markdown",
      "id": "63a8f071",
      "metadata": {
        "id": "63a8f071"
      },
      "source": [
        "### Saving and loading numpy arrays"
      ]
    },
    {
      "cell_type": "code",
      "execution_count": 39,
      "id": "d0e86d18",
      "metadata": {
        "id": "d0e86d18"
      },
      "outputs": [],
      "source": []
    },
    {
      "cell_type": "code",
      "execution_count": 39,
      "id": "b163e8a1",
      "metadata": {
        "id": "b163e8a1"
      },
      "outputs": [],
      "source": []
    },
    {
      "cell_type": "code",
      "execution_count": 39,
      "id": "ee9dd7e6",
      "metadata": {
        "id": "ee9dd7e6"
      },
      "outputs": [],
      "source": []
    },
    {
      "cell_type": "code",
      "execution_count": 39,
      "id": "a7c323a1",
      "metadata": {
        "id": "a7c323a1"
      },
      "outputs": [],
      "source": []
    },
    {
      "cell_type": "code",
      "execution_count": 39,
      "id": "81fa5d8e",
      "metadata": {
        "id": "81fa5d8e"
      },
      "outputs": [],
      "source": []
    },
    {
      "cell_type": "markdown",
      "id": "aa85c846",
      "metadata": {
        "id": "aa85c846"
      },
      "source": [
        "### Random numbers"
      ]
    },
    {
      "cell_type": "code",
      "execution_count": 39,
      "id": "277ef0d2",
      "metadata": {
        "id": "277ef0d2"
      },
      "outputs": [],
      "source": []
    },
    {
      "cell_type": "code",
      "execution_count": 39,
      "id": "d89732e9",
      "metadata": {
        "id": "d89732e9"
      },
      "outputs": [],
      "source": []
    },
    {
      "cell_type": "code",
      "execution_count": 39,
      "id": "3989891b",
      "metadata": {
        "id": "3989891b"
      },
      "outputs": [],
      "source": []
    },
    {
      "cell_type": "code",
      "execution_count": 39,
      "id": "1a9827ad",
      "metadata": {
        "id": "1a9827ad"
      },
      "outputs": [],
      "source": []
    },
    {
      "cell_type": "code",
      "execution_count": 39,
      "id": "12a8ade9",
      "metadata": {
        "id": "12a8ade9"
      },
      "outputs": [],
      "source": []
    },
    {
      "cell_type": "code",
      "execution_count": 39,
      "id": "5f2d1bc6",
      "metadata": {
        "id": "5f2d1bc6"
      },
      "outputs": [],
      "source": []
    },
    {
      "cell_type": "code",
      "execution_count": 39,
      "id": "f6b28e7e",
      "metadata": {
        "id": "f6b28e7e"
      },
      "outputs": [],
      "source": []
    },
    {
      "cell_type": "code",
      "execution_count": 39,
      "id": "dcc1f9d8",
      "metadata": {
        "id": "dcc1f9d8"
      },
      "outputs": [],
      "source": []
    },
    {
      "cell_type": "code",
      "execution_count": 39,
      "id": "a029ecbf",
      "metadata": {
        "id": "a029ecbf"
      },
      "outputs": [],
      "source": []
    },
    {
      "cell_type": "code",
      "execution_count": 39,
      "id": "4346a873",
      "metadata": {
        "id": "4346a873"
      },
      "outputs": [],
      "source": []
    },
    {
      "cell_type": "code",
      "execution_count": 39,
      "id": "2c02cfa7",
      "metadata": {
        "id": "2c02cfa7"
      },
      "outputs": [],
      "source": []
    },
    {
      "cell_type": "markdown",
      "id": "0d519b4b",
      "metadata": {
        "id": "0d519b4b"
      },
      "source": [
        "### Statistics"
      ]
    },
    {
      "cell_type": "markdown",
      "id": "73d7964e",
      "metadata": {
        "id": "73d7964e"
      },
      "source": [
        "###### Chi-square samples"
      ]
    },
    {
      "cell_type": "code",
      "execution_count": 39,
      "id": "b87f6ae8",
      "metadata": {
        "id": "b87f6ae8"
      },
      "outputs": [],
      "source": []
    },
    {
      "cell_type": "code",
      "execution_count": 39,
      "id": "50710237",
      "metadata": {
        "id": "50710237"
      },
      "outputs": [],
      "source": []
    },
    {
      "cell_type": "markdown",
      "id": "c7e1c285",
      "metadata": {
        "id": "c7e1c285"
      },
      "source": [
        "###### Poisson samples"
      ]
    },
    {
      "cell_type": "code",
      "execution_count": 39,
      "id": "35b24733",
      "metadata": {
        "id": "35b24733"
      },
      "outputs": [],
      "source": []
    },
    {
      "cell_type": "code",
      "execution_count": 39,
      "id": "c3db6eb3",
      "metadata": {
        "id": "c3db6eb3"
      },
      "outputs": [],
      "source": []
    },
    {
      "cell_type": "markdown",
      "id": "ef5f3874",
      "metadata": {
        "id": "ef5f3874"
      },
      "source": [
        "###### Normal samples"
      ]
    },
    {
      "cell_type": "code",
      "execution_count": 39,
      "id": "9f280eff",
      "metadata": {
        "id": "9f280eff"
      },
      "outputs": [],
      "source": []
    },
    {
      "cell_type": "code",
      "execution_count": 39,
      "id": "2e635409",
      "metadata": {
        "id": "2e635409"
      },
      "outputs": [],
      "source": []
    },
    {
      "cell_type": "code",
      "execution_count": 39,
      "id": "b17f2d66",
      "metadata": {
        "id": "b17f2d66"
      },
      "outputs": [],
      "source": []
    },
    {
      "cell_type": "code",
      "execution_count": 39,
      "id": "952bc710",
      "metadata": {
        "id": "952bc710"
      },
      "outputs": [],
      "source": []
    },
    {
      "cell_type": "markdown",
      "id": "d7b2f9bd",
      "metadata": {
        "id": "d7b2f9bd"
      },
      "source": [
        "### Linear algebra"
      ]
    },
    {
      "cell_type": "code",
      "execution_count": 39,
      "id": "2acc4ab8",
      "metadata": {
        "id": "2acc4ab8"
      },
      "outputs": [],
      "source": []
    },
    {
      "cell_type": "markdown",
      "id": "13c5a3ec",
      "metadata": {
        "id": "13c5a3ec"
      },
      "source": [
        "###### Transpose matrix"
      ]
    },
    {
      "cell_type": "code",
      "execution_count": 39,
      "id": "e87550ee",
      "metadata": {
        "id": "e87550ee"
      },
      "outputs": [],
      "source": []
    },
    {
      "cell_type": "markdown",
      "id": "e18dc9e4",
      "metadata": {
        "id": "e18dc9e4"
      },
      "source": [
        "###### Trace of a matrix:  $\\text{Tr}(M)$"
      ]
    },
    {
      "cell_type": "code",
      "execution_count": 39,
      "id": "02a38585",
      "metadata": {
        "id": "02a38585"
      },
      "outputs": [],
      "source": []
    },
    {
      "cell_type": "markdown",
      "id": "7eb85b66",
      "metadata": {
        "id": "7eb85b66"
      },
      "source": [
        "###### Determinant of a matrix: $\\det(M)$"
      ]
    },
    {
      "cell_type": "code",
      "execution_count": 39,
      "id": "b91994d6",
      "metadata": {
        "id": "b91994d6"
      },
      "outputs": [],
      "source": []
    },
    {
      "cell_type": "markdown",
      "id": "496ca989",
      "metadata": {
        "id": "496ca989"
      },
      "source": [
        "###### Inverse of a matrix: $M^{-1}$"
      ]
    },
    {
      "cell_type": "code",
      "execution_count": 39,
      "id": "7d1daba2",
      "metadata": {
        "id": "7d1daba2"
      },
      "outputs": [],
      "source": []
    },
    {
      "cell_type": "markdown",
      "id": "aad3f368",
      "metadata": {
        "id": "aad3f368"
      },
      "source": [
        "###### Matrix multiplication"
      ]
    },
    {
      "cell_type": "code",
      "execution_count": 39,
      "id": "68fc4a61",
      "metadata": {
        "id": "68fc4a61"
      },
      "outputs": [],
      "source": []
    },
    {
      "cell_type": "code",
      "execution_count": 39,
      "id": "a8475373",
      "metadata": {
        "id": "a8475373"
      },
      "outputs": [],
      "source": []
    },
    {
      "cell_type": "markdown",
      "id": "23544ab9",
      "metadata": {
        "id": "23544ab9"
      },
      "source": [
        "###### Inner product of two vectors"
      ]
    },
    {
      "cell_type": "code",
      "execution_count": 39,
      "id": "f30a3f2c",
      "metadata": {
        "id": "f30a3f2c"
      },
      "outputs": [],
      "source": []
    },
    {
      "cell_type": "markdown",
      "id": "9a2062b0",
      "metadata": {
        "id": "9a2062b0"
      },
      "source": [
        "###### Eigendecomposition of a matrix: $A = Q\\Lambda Q^{-1}$"
      ]
    },
    {
      "cell_type": "code",
      "execution_count": 39,
      "id": "75317a8b",
      "metadata": {
        "id": "75317a8b"
      },
      "outputs": [],
      "source": []
    },
    {
      "cell_type": "code",
      "execution_count": 39,
      "id": "4b677338",
      "metadata": {
        "id": "4b677338"
      },
      "outputs": [],
      "source": []
    },
    {
      "cell_type": "code",
      "execution_count": 39,
      "id": "af979d90",
      "metadata": {
        "id": "af979d90"
      },
      "outputs": [],
      "source": []
    },
    {
      "cell_type": "markdown",
      "id": "e7070029",
      "metadata": {
        "id": "e7070029"
      },
      "source": [
        "###### Single value decomposition (SVD)"
      ]
    },
    {
      "cell_type": "code",
      "execution_count": 39,
      "id": "0cdf4ee6",
      "metadata": {
        "id": "0cdf4ee6"
      },
      "outputs": [],
      "source": []
    },
    {
      "cell_type": "code",
      "execution_count": 39,
      "id": "40463c4c",
      "metadata": {
        "id": "40463c4c"
      },
      "outputs": [],
      "source": []
    },
    {
      "cell_type": "code",
      "execution_count": 39,
      "id": "ea0c01f8",
      "metadata": {
        "id": "ea0c01f8"
      },
      "outputs": [],
      "source": []
    },
    {
      "cell_type": "code",
      "execution_count": 39,
      "id": "505088ce",
      "metadata": {
        "id": "505088ce"
      },
      "outputs": [],
      "source": []
    },
    {
      "cell_type": "code",
      "execution_count": 39,
      "id": "3591ac6a",
      "metadata": {
        "id": "3591ac6a"
      },
      "outputs": [],
      "source": []
    },
    {
      "cell_type": "code",
      "execution_count": 39,
      "id": "ee922dc6",
      "metadata": {
        "id": "ee922dc6"
      },
      "outputs": [],
      "source": []
    },
    {
      "cell_type": "code",
      "execution_count": 39,
      "id": "0784d021",
      "metadata": {
        "id": "0784d021"
      },
      "outputs": [],
      "source": []
    },
    {
      "cell_type": "code",
      "execution_count": 39,
      "id": "00a589bb",
      "metadata": {
        "id": "00a589bb"
      },
      "outputs": [],
      "source": []
    },
    {
      "cell_type": "code",
      "execution_count": 39,
      "id": "3a7006a4",
      "metadata": {
        "id": "3a7006a4"
      },
      "outputs": [],
      "source": []
    },
    {
      "cell_type": "code",
      "execution_count": 39,
      "id": "d464ef3e",
      "metadata": {
        "id": "d464ef3e"
      },
      "outputs": [],
      "source": []
    },
    {
      "cell_type": "code",
      "execution_count": 39,
      "id": "bd3ec914",
      "metadata": {
        "id": "bd3ec914"
      },
      "outputs": [],
      "source": []
    },
    {
      "cell_type": "code",
      "execution_count": 39,
      "id": "eaf5315c",
      "metadata": {
        "id": "eaf5315c"
      },
      "outputs": [],
      "source": []
    },
    {
      "cell_type": "code",
      "execution_count": 39,
      "id": "2ce4b669",
      "metadata": {
        "id": "2ce4b669"
      },
      "outputs": [],
      "source": []
    },
    {
      "cell_type": "code",
      "execution_count": 39,
      "id": "db261511",
      "metadata": {
        "id": "db261511"
      },
      "outputs": [],
      "source": []
    },
    {
      "cell_type": "code",
      "execution_count": 39,
      "id": "2c458aee",
      "metadata": {
        "id": "2c458aee"
      },
      "outputs": [],
      "source": []
    },
    {
      "cell_type": "code",
      "execution_count": 39,
      "id": "e6a177ce",
      "metadata": {
        "id": "e6a177ce"
      },
      "outputs": [],
      "source": []
    },
    {
      "cell_type": "code",
      "execution_count": 39,
      "id": "31d9d80a",
      "metadata": {
        "id": "31d9d80a"
      },
      "outputs": [],
      "source": []
    },
    {
      "cell_type": "markdown",
      "id": "1e2a4a3c",
      "metadata": {
        "id": "1e2a4a3c"
      },
      "source": [
        "### Trigonometry"
      ]
    },
    {
      "cell_type": "code",
      "execution_count": 39,
      "id": "34e3ed63",
      "metadata": {
        "id": "34e3ed63"
      },
      "outputs": [],
      "source": []
    },
    {
      "cell_type": "markdown",
      "id": "30445e41",
      "metadata": {
        "id": "30445e41"
      },
      "source": [
        "###### Sine function"
      ]
    },
    {
      "cell_type": "code",
      "execution_count": 39,
      "id": "517b08f2",
      "metadata": {
        "id": "517b08f2"
      },
      "outputs": [],
      "source": []
    },
    {
      "cell_type": "markdown",
      "id": "46981a9d",
      "metadata": {
        "id": "46981a9d"
      },
      "source": [
        "###### Cosine function"
      ]
    },
    {
      "cell_type": "code",
      "execution_count": 39,
      "id": "f4622fe8",
      "metadata": {
        "id": "f4622fe8"
      },
      "outputs": [],
      "source": []
    },
    {
      "cell_type": "markdown",
      "id": "0e448959",
      "metadata": {
        "id": "0e448959"
      },
      "source": [
        "###### Hyperbolic functions"
      ]
    },
    {
      "cell_type": "code",
      "execution_count": 39,
      "id": "c684ee62",
      "metadata": {
        "id": "c684ee62"
      },
      "outputs": [],
      "source": []
    },
    {
      "cell_type": "code",
      "execution_count": 39,
      "id": "e128c293",
      "metadata": {
        "id": "e128c293"
      },
      "outputs": [],
      "source": []
    },
    {
      "cell_type": "markdown",
      "id": "b7c21c95",
      "metadata": {
        "id": "b7c21c95"
      },
      "source": [
        "### Plotting the Julia set"
      ]
    },
    {
      "cell_type": "code",
      "execution_count": 39,
      "id": "e5d90dfc",
      "metadata": {
        "id": "e5d90dfc"
      },
      "outputs": [],
      "source": []
    },
    {
      "cell_type": "code",
      "execution_count": 39,
      "id": "af1adcb0",
      "metadata": {
        "id": "af1adcb0"
      },
      "outputs": [],
      "source": []
    },
    {
      "cell_type": "code",
      "execution_count": 39,
      "id": "37b95ef3",
      "metadata": {
        "id": "37b95ef3"
      },
      "outputs": [],
      "source": []
    },
    {
      "cell_type": "code",
      "execution_count": 39,
      "id": "f8df6c2e",
      "metadata": {
        "id": "f8df6c2e"
      },
      "outputs": [],
      "source": []
    },
    {
      "cell_type": "code",
      "execution_count": 39,
      "id": "0bbeba98",
      "metadata": {
        "id": "0bbeba98"
      },
      "outputs": [],
      "source": []
    }
  ],
  "metadata": {
    "kernelspec": {
      "display_name": "Python 3",
      "language": "python",
      "name": "python3"
    },
    "language_info": {
      "codemirror_mode": {
        "name": "ipython",
        "version": 3
      },
      "file_extension": ".py",
      "mimetype": "text/x-python",
      "name": "python",
      "nbconvert_exporter": "python",
      "pygments_lexer": "ipython3",
      "version": "3.8.8"
    },
    "colab": {
      "provenance": []
    }
  },
  "nbformat": 4,
  "nbformat_minor": 5
}